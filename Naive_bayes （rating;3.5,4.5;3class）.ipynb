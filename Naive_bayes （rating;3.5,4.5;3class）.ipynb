{
 "cells": [
  {
   "cell_type": "code",
   "execution_count": 1,
   "metadata": {},
   "outputs": [],
   "source": [
    "# -*- coding: UTF-8 -*-\n",
    "%matplotlib inline\n",
    "import matplotlib.pyplot as plt\n",
    "import pandas as pd\n",
    "import numpy as np\n",
    "import jieba\n",
    "from sklearn.feature_extraction.text import CountVectorizer\n",
    "from sklearn.feature_extraction.text import TfidfTransformer\n",
    "from sklearn import naive_bayes\n",
    "from sklearn import metrics\n",
    "from sklearn.model_selection import train_test_split\n",
    "from sklearn.preprocessing import label_binarize"
   ]
  },
  {
   "cell_type": "code",
   "execution_count": 2,
   "metadata": {},
   "outputs": [],
   "source": [
    "#读取数据\n",
    "def get_data():\n",
    "\tdata=pd.read_excel('评论数据.xls')\n",
    "\treturn data.loc[:,['hotelid','content','rating']]"
   ]
  },
  {
   "cell_type": "code",
   "execution_count": 3,
   "metadata": {},
   "outputs": [],
   "source": [
    "#建立中文停用词表 返回list格式\n",
    "def get_stop_words():\n",
    "\tchinese_stop_words=[]\n",
    "\tfor line in open(\"chinese_stop_words.txt\",'r'):\n",
    "\t\tchinese_stop_words.append(line[:-1])\n",
    "\treturn chinese_stop_words"
   ]
  },
  {
   "cell_type": "code",
   "execution_count": 4,
   "metadata": {},
   "outputs": [],
   "source": [
    "#数据预处理（分词）\n",
    "def get_comment_keywords_counts(comment_data,chinese_stop_words):\n",
    "    seg_words_list = []\n",
    "    for comment in comment_data:\n",
    "        seg_word=list(jieba.cut(comment))\n",
    "        result= ''\n",
    "        for word in seg_word:  \n",
    "            if word not in chinese_stop_words:\n",
    "                if word != '\\t':\n",
    "                    result+=word+' '\n",
    "        seg_words_list.append(result)\n",
    "    return seg_words_list"
   ]
  },
  {
   "cell_type": "code",
   "execution_count": 5,
   "metadata": {},
   "outputs": [],
   "source": [
    "def test_GaussianNB(x_train, x_test, y_train, y_test):\n",
    "    cls = naive_bayes.GaussianNB().fit(x_train, y_train)\n",
    "    predicted = cls.predict(x_test)\n",
    "    y_score = cls.predict_proba(x_test)\n",
    "    fpr, tpr, thresholds = metrics.roc_curve(y_one_hot.ravel(),y_score.ravel())\n",
    "    auc = metrics.auc(fpr, tpr)\n",
    "    print('GaussianNB正确率：{}'.format(cls.score(x_test, y_test)))\n",
    "    print('GaussianNB的AUC：{}'.format(auc))"
   ]
  },
  {
   "cell_type": "code",
   "execution_count": 6,
   "metadata": {},
   "outputs": [],
   "source": [
    "def test_MultinomialNB(x_train, x_test, y_train, y_test):\n",
    "    cls = naive_bayes.MultinomialNB().fit(x_train, y_train)\n",
    "    predicted = cls.predict(x_test)\n",
    "    y_score = cls.predict_proba(x_test)\n",
    "    fpr, tpr, thresholds = metrics.roc_curve(y_one_hot.ravel(),y_score.ravel())\n",
    "    auc = metrics.auc(fpr, tpr)\n",
    "    print('MultinomialNB正确率：{}'.format(cls.score(x_test, y_test)))\n",
    "    print('MultinomialNB的AUC：{}'.format(auc))"
   ]
  },
  {
   "cell_type": "code",
   "execution_count": 7,
   "metadata": {},
   "outputs": [],
   "source": [
    "def test_MultinomialNB_alpha(x_train, x_test, y_train, y_test, show=False):\n",
    "    alphas = np.logspace(-2, 5, num=200)\n",
    "    train_scores = []\n",
    "    test_scores = []\n",
    "    for alpha in alphas:\n",
    "        cls = naive_bayes.MultinomialNB(alpha=alpha).fit(x_train, y_train)\n",
    "        train_scores.append(cls.score(x_train, y_train))\n",
    "        test_scores.append(cls.score(x_test, y_test))\n",
    "\n",
    "    if show:\n",
    "        ## 绘图:MultinomialNB 的预测性能随 alpha 参数的影响\n",
    "        fig = plt.figure()\n",
    "        ax = fig.add_subplot(1, 1, 1)\n",
    "        ax.plot(alphas, train_scores, label='Training Score',color='b')\n",
    "        ax.plot(alphas, test_scores, label='Testing Score', color='r')\n",
    "        ax.set_xlabel(r'$\\alpha$')\n",
    "        ax.set_ylabel('score')\n",
    "        ax.set_ylim(0, 1.0)\n",
    "        ax.set_title('MultinomialNB')\n",
    "        ax.set_xscale('log')\n",
    "        plt.show()\n",
    "    print('MultinomialNB_alpha best alpha {}'.format(alphas[test_scores.index(max(test_scores))]))\n",
    "    print('MultinomialNB_alpha best test_scores {}'.format(max(test_scores)))"
   ]
  },
  {
   "cell_type": "code",
   "execution_count": 8,
   "metadata": {},
   "outputs": [],
   "source": [
    "def test_BernoulliNB(x_train, x_test, y_train, y_test):\n",
    "    cls = naive_bayes.BernoulliNB().fit(x_train, y_train)\n",
    "    predicted = cls.predict(x_test)\n",
    "    y_score = cls.predict_proba(x_test)\n",
    "    fpr, tpr, thresholds = metrics.roc_curve(y_one_hot.ravel(),y_score.ravel())\n",
    "    auc = metrics.auc(fpr, tpr)\n",
    "    print('BernoulliNB正确率：{}'.format(cls.score(x_test,y_test)))\n",
    "    print('BernoulliNB的AUC：{}'.format(auc))"
   ]
  },
  {
   "cell_type": "code",
   "execution_count": 10,
   "metadata": {},
   "outputs": [],
   "source": [
    "def test_BernoulliNB_alpha(x_train, x_test, y_train, y_test, show=False):\n",
    "    alphas = np.logspace(-2, 5, num=200)\n",
    "    train_scores = []\n",
    "    test_scores = []\n",
    "    for alpha in alphas:\n",
    "        cls = naive_bayes.BernoulliNB(alpha=alpha)\n",
    "        cls.fit(x_train, y_train)\n",
    "        train_scores.append(cls.score(x_train, y_train))\n",
    "        test_scores.append(cls.score(x_test, y_test))\n",
    "\n",
    "    if show:\n",
    "        ## 绘图-展示BernoulliNB 的预测性能随 alpha 参数的影响\n",
    "        fig = plt.figure()\n",
    "        ax = fig.add_subplot(1, 1, 1)\n",
    "        ax.plot(alphas, train_scores, label='Training Score',color='b')\n",
    "        ax.plot(alphas, test_scores, label='Testing Score', color='r')\n",
    "        ax.set_xlabel(r'$\\alpha$')\n",
    "        ax.set_ylabel('score')\n",
    "        ax.set_ylim(0, 1.0)\n",
    "        ax.set_title('BernoulliNB')\n",
    "        ax.set_xscale('log')\n",
    "        ax.legend(loc='best')\n",
    "        plt.show()\n",
    "    print('MultinomialNB_alpha best alpha {}'.format(alphas[test_scores.index(max(test_scores))]))    \n",
    "    print('BernoulliNB_alpha best test_scores {}'.format(max(test_scores)))"
   ]
  },
  {
   "cell_type": "code",
   "execution_count": 9,
   "metadata": {},
   "outputs": [
    {
     "name": "stdout",
     "output_type": "stream",
     "text": [
      "             rating\n",
      "count  17909.000000\n",
      "mean       4.704065\n",
      "std        0.745394\n",
      "min        1.000000\n",
      "25%        5.000000\n",
      "50%        5.000000\n",
      "75%        5.000000\n",
      "max        5.000000\n"
     ]
    }
   ],
   "source": [
    "data=get_data()\n",
    "print(data.describe())\n",
    "data=data.dropna()"
   ]
  },
  {
   "cell_type": "code",
   "execution_count": 11,
   "metadata": {},
   "outputs": [],
   "source": [
    "ratings = data['rating']\n",
    "y=[]\n",
    "for rating in ratings:\n",
    "    if rating > 4.5:\n",
    "        y.append(3)\n",
    "    elif rating > 3.5:\n",
    "        y.append(2)\n",
    "    else:\n",
    "        y.append(1)"
   ]
  },
  {
   "cell_type": "code",
   "execution_count": 12,
   "metadata": {},
   "outputs": [],
   "source": [
    "chinese_stop_words=get_stop_words()"
   ]
  },
  {
   "cell_type": "code",
   "execution_count": 13,
   "metadata": {},
   "outputs": [],
   "source": [
    "x=data['content']"
   ]
  },
  {
   "cell_type": "code",
   "execution_count": 14,
   "metadata": {},
   "outputs": [
    {
     "name": "stderr",
     "output_type": "stream",
     "text": [
      "Building prefix dict from the default dictionary ...\n",
      "Loading model from cache C:\\Users\\ADMINI~1\\AppData\\Local\\Temp\\jieba.cache\n",
      "Loading model cost 0.689 seconds.\n",
      "Prefix dict has been built succesfully.\n"
     ]
    }
   ],
   "source": [
    "x=get_comment_keywords_counts(x,chinese_stop_words)"
   ]
  },
  {
   "cell_type": "code",
   "execution_count": 15,
   "metadata": {},
   "outputs": [],
   "source": [
    "x_train,x_test,y_train,y_test=train_test_split(x,y,test_size=0.3,random_state=2018)"
   ]
  },
  {
   "cell_type": "code",
   "execution_count": 16,
   "metadata": {},
   "outputs": [],
   "source": [
    "y_one_hot = label_binarize(y_test, np.arange(3))  #装换成类似二进制的编码"
   ]
  },
  {
   "cell_type": "code",
   "execution_count": 17,
   "metadata": {},
   "outputs": [],
   "source": [
    "count_vect=CountVectorizer()\n",
    "x_train=count_vect.fit_transform(x_train)\n",
    "tfidf_transformer=TfidfTransformer().fit(x_train)\n",
    "x_train=tfidf_transformer.transform(x_train)\n",
    "x_test=count_vect.transform(x_test)\n",
    "x_test=tfidf_transformer.transform(x_test)"
   ]
  },
  {
   "cell_type": "code",
   "execution_count": 18,
   "metadata": {
    "scrolled": false
   },
   "outputs": [
    {
     "name": "stdout",
     "output_type": "stream",
     "text": [
      "GaussianNB正确率：0.3169551461008747\n",
      "GaussianNB的AUC：0.483127007986744\n"
     ]
    }
   ],
   "source": [
    "test_GaussianNB(x_train.todense(), x_test.todense(), y_train, y_test)  # 调用 test_GaussianNB"
   ]
  },
  {
   "cell_type": "code",
   "execution_count": 20,
   "metadata": {},
   "outputs": [
    {
     "name": "stdout",
     "output_type": "stream",
     "text": [
      "BernoulliNB正确率：0.8174204355108877\n",
      "BernoulliNB的AUC：0.6460389783876195\n"
     ]
    }
   ],
   "source": [
    "test_BernoulliNB(x_train, x_test, y_train, y_test)"
   ]
  },
  {
   "cell_type": "code",
   "execution_count": 19,
   "metadata": {},
   "outputs": [
    {
     "data": {
      "image/png": "[encoded data removed]",
      "text/plain": [
       "<Figure size 432x288 with 1 Axes>"
      ]
     },
     "metadata": {
      "needs_background": "light"
     },
     "output_type": "display_data"
    },
    {
     "name": "stdout",
     "output_type": "stream",
     "text": [
      "MultinomialNB_alpha best alpha 0.01\n",
      "BernoulliNB_alpha best test_scores 0.8364042434394193\n"
     ]
    }
   ],
   "source": [
    "test_BernoulliNB_alpha(x_train, x_test, y_train, y_test,show = True)  # 调用 test_BernoulliNB_alpha\n",
    "#蓝线为训练集分数，红线为测试集分数"
   ]
  },
  {
   "cell_type": "code",
   "execution_count": 21,
   "metadata": {},
   "outputs": [
    {
     "name": "stdout",
     "output_type": "stream",
     "text": [
      "MultinomialNB正确率：0.8243067187790806\n",
      "MultinomialNB的AUC：0.6892115198562143\n"
     ]
    }
   ],
   "source": [
    "test_MultinomialNB(x_train,x_test,y_train,y_test) # 调用 test_MultinomialNB"
   ]
  },
  {
   "cell_type": "code",
   "execution_count": 22,
   "metadata": {
    "scrolled": false
   },
   "outputs": [
    {
     "data": {
      "image/png": "[encoded data removed]",
      "text/plain": [
       "<Figure size 432x288 with 1 Axes>"
      ]
     },
     "metadata": {
      "needs_background": "light"
     },
     "output_type": "display_data"
    },
    {
     "name": "stdout",
     "output_type": "stream",
     "text": [
      "MultinomialNB_alpha best alpha 0.026430814869741057\n",
      "MultinomialNB_alpha best test_scores 0.8568769774799926\n"
     ]
    }
   ],
   "source": [
    "test_MultinomialNB_alpha(x_train, x_test, y_train, y_test,show = True)  # 调用 test_MultinomialNB_alpha\n",
    "#蓝线为训练集分数，红线为测试集分数"
   ]
  },
  {
   "cell_type": "code",
   "execution_count": 23,
   "metadata": {
    "scrolled": true
   },
   "outputs": [
    {
     "data": {
      "image/png": "[encoded data removed]",
      "text/plain": [
       "<Figure size 432x288 with 1 Axes>"
      ]
     },
     "metadata": {
      "needs_background": "light"
     },
     "output_type": "display_data"
    },
    {
     "name": "stdout",
     "output_type": "stream",
     "text": [
      "MultinomialNB正确率：0.851107388795831\n"
     ]
    }
   ],
   "source": [
    "# auc曲线图\n",
    "model1=naive_bayes.MultinomialNB(alpha=0.026430814869741057).fit(x_train, y_train)\n",
    "y_score = model1.predict_proba(x_test)\n",
    "fpr, tpr, thresholds = metrics.roc_curve(y_one_hot.ravel(),y_score.ravel())\n",
    "auc = metrics.auc(fpr, tpr)\n",
    "plt.plot(fpr, tpr, c = 'r', lw = 2, alpha = 0.7, label = 'AUC={}'.format(auc))\n",
    "plt.plot((0, 1), (0, 1), c = '#808080', lw = 1, ls = '--', alpha = 0.7)\n",
    "plt.xlim((-0.01, 1.02))\n",
    "plt.ylim((-0.01, 1.02))\n",
    "plt.xticks(np.arange(0, 1.1, 0.1))\n",
    "plt.yticks(np.arange(0, 1.1, 0.1))\n",
    "plt.xlabel('False Positive Rate', fontsize=13)\n",
    "plt.ylabel('True Positive Rate', fontsize=13)\n",
    "plt.grid(b=True, ls=':')\n",
    "plt.legend(loc='lower right', fancybox=True, framealpha=0.8, fontsize=12)\n",
    "plt.title('ROC curve', fontsize=17)\n",
    "plt.show()\n",
    "\n",
    "predicted = model1.predict(x_test)\n",
    "i=0\n",
    "for doc,category in zip(y_test,predicted):\n",
    "    if doc==category:\n",
    "        i=i+1\n",
    "print('MultinomialNB正确率：{}'.format(i/len(predicted)))"
   ]
  },
  {
   "cell_type": "code",
   "execution_count": 24,
   "metadata": {},
   "outputs": [
    {
     "data": {
      "text/plain": [
       "0.5237724441289863"
      ]
     },
     "execution_count": 24,
     "metadata": {},
     "output_type": "execute_result"
    }
   ],
   "source": [
    "predicted = model1.predict(x_test)\n",
    "metrics.recall_score(y_test, predicted, average='macro')"
   ]
  },
  {
   "cell_type": "code",
   "execution_count": 25,
   "metadata": {},
   "outputs": [
    {
     "data": {
      "text/plain": [
       "0.6630556089879639"
      ]
     },
     "execution_count": 25,
     "metadata": {},
     "output_type": "execute_result"
    }
   ],
   "source": [
    "metrics.precision_score(y_test, predicted, average='macro')"
   ]
  },
  {
   "cell_type": "code",
   "execution_count": 26,
   "metadata": {},
   "outputs": [],
   "source": [
    "test1='设备老旧，怪恶心的'\n",
    "seg_word=list(jieba.cut(test1))\n",
    "result= ''\n",
    "for word in seg_word:  \n",
    "    if word not in chinese_stop_words:\n",
    "        if word != '\\t':\n",
    "            result+=word+' '\n",
    "result=[result]\n",
    "result=count_vect.transform(result)\n",
    "result=tfidf_transformer.transform(result)\n",
    "result=model1.predict(result)"
   ]
  },
  {
   "cell_type": "code",
   "execution_count": 27,
   "metadata": {
    "scrolled": true
   },
   "outputs": [
    {
     "data": {
      "text/plain": [
       "array([1])"
      ]
     },
     "execution_count": 27,
     "metadata": {},
     "output_type": "execute_result"
    }
   ],
   "source": [
    "result"
   ]
  },
  {
   "cell_type": "markdown",
   "metadata": {},
   "source": [
    "归为差评"
   ]
  }
 ],
 "metadata": {
  "kernelspec": {
   "display_name": "Python 3",
   "language": "python",
   "name": "python3"
  },
  "language_info": {
   "codemirror_mode": {
    "name": "ipython",
    "version": 3
   },
   "file_extension": ".py",
   "mimetype": "text/x-python",
   "name": "python",
   "nbconvert_exporter": "python",
   "pygments_lexer": "ipython3",
   "version": "3.6.6"
  }
 },
 "nbformat": 4,
 "nbformat_minor": 2
}
